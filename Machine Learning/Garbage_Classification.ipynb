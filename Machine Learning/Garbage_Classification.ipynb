{
  "nbformat": 4,
  "nbformat_minor": 0,
  "metadata": {
    "colab": {
      "provenance": [],
      "gpuType": "T4"
    },
    "kernelspec": {
      "name": "python3",
      "display_name": "Python 3"
    },
    "language_info": {
      "name": "python"
    },
    "accelerator": "GPU"
  },
  "cells": [
    {
      "cell_type": "markdown",
      "source": [
        "## Import Library"
      ],
      "metadata": {
        "id": "2psiUBaMd1BT"
      }
    },
    {
      "cell_type": "code",
      "execution_count": null,
      "metadata": {
        "id": "d3SsJGXYehBW"
      },
      "outputs": [],
      "source": [
        "import tensorflow as tf\n",
        "from tensorflow.keras.preprocessing.image import ImageDataGenerator\n",
        "import numpy as np\n",
        "\n",
        "import pathlib\n",
        "import random\n",
        "import matplotlib as plt\n",
        "import matplotlib.pyplot\n",
        "import matplotlib.image\n",
        "\n",
        "from tqdm import tqdm\n",
        "\n",
        "import os"
      ]
    },
    {
      "cell_type": "markdown",
      "source": [
        "## Download Dataset"
      ],
      "metadata": {
        "id": "ZrS1qzX9d60N"
      }
    },
    {
      "cell_type": "code",
      "source": [
        "!pip install gdown\n",
        "\n",
        "file_id = \"16QB4hWxPaV-BL1mSnKoTVv0U63W-wzwa\"\n",
        "output_file = \"garbageClassification.zip\"\n",
        "\n",
        "!gdown --id $file_id -O $output_file"
      ],
      "metadata": {
        "colab": {
          "base_uri": "https://localhost:8080/"
        },
        "id": "T-Ic9VwRepym",
        "outputId": "e1a1415c-6f4e-4c2e-cb9e-0cd9010681f0"
      },
      "execution_count": 1,
      "outputs": [
        {
          "output_type": "stream",
          "name": "stdout",
          "text": [
            "Requirement already satisfied: gdown in /usr/local/lib/python3.10/dist-packages (4.6.6)\n",
            "Requirement already satisfied: filelock in /usr/local/lib/python3.10/dist-packages (from gdown) (3.13.1)\n",
            "Requirement already satisfied: requests[socks] in /usr/local/lib/python3.10/dist-packages (from gdown) (2.31.0)\n",
            "Requirement already satisfied: six in /usr/local/lib/python3.10/dist-packages (from gdown) (1.16.0)\n",
            "Requirement already satisfied: tqdm in /usr/local/lib/python3.10/dist-packages (from gdown) (4.66.1)\n",
            "Requirement already satisfied: beautifulsoup4 in /usr/local/lib/python3.10/dist-packages (from gdown) (4.11.2)\n",
            "Requirement already satisfied: soupsieve>1.2 in /usr/local/lib/python3.10/dist-packages (from beautifulsoup4->gdown) (2.5)\n",
            "Requirement already satisfied: charset-normalizer<4,>=2 in /usr/local/lib/python3.10/dist-packages (from requests[socks]->gdown) (3.3.2)\n",
            "Requirement already satisfied: idna<4,>=2.5 in /usr/local/lib/python3.10/dist-packages (from requests[socks]->gdown) (3.6)\n",
            "Requirement already satisfied: urllib3<3,>=1.21.1 in /usr/local/lib/python3.10/dist-packages (from requests[socks]->gdown) (2.0.7)\n",
            "Requirement already satisfied: certifi>=2017.4.17 in /usr/local/lib/python3.10/dist-packages (from requests[socks]->gdown) (2023.11.17)\n",
            "Requirement already satisfied: PySocks!=1.5.7,>=1.5.6 in /usr/local/lib/python3.10/dist-packages (from requests[socks]->gdown) (1.7.1)\n",
            "/usr/local/lib/python3.10/dist-packages/gdown/cli.py:121: FutureWarning: Option `--id` was deprecated in version 4.3.1 and will be removed in 5.0. You don't need to pass it anymore to use a file ID.\n",
            "  warnings.warn(\n",
            "Downloading...\n",
            "From: https://drive.google.com/uc?id=16QB4hWxPaV-BL1mSnKoTVv0U63W-wzwa\n",
            "To: /content/garbageClassification.zip\n",
            "100% 386M/386M [00:04<00:00, 86.9MB/s]\n"
          ]
        }
      ]
    },
    {
      "cell_type": "code",
      "source": [
        "import zipfile\n",
        "\n",
        "# Extract the archive\n",
        "local_zip = './garbageClassification.zip'\n",
        "zip_ref = zipfile.ZipFile(local_zip, 'r')\n",
        "zip_ref.extractall('tmp/garbageClassification')\n",
        "zip_ref.close()"
      ],
      "metadata": {
        "id": "XSIclBTEescM"
      },
      "execution_count": 2,
      "outputs": []
    },
    {
      "cell_type": "code",
      "source": [
        "import os\n",
        "\n",
        "base_dir = 'tmp/garbageClassification'\n",
        "\n",
        "# kaleng, kertas, kardus, botol_plastik\n",
        "kaleng_dir = os.path.join(base_dir, 'kaleng')\n",
        "kertas_dir = os.path.join(base_dir, 'kertas')\n",
        "kardus_dir = os.path.join(base_dir, 'kardus')\n",
        "botol_plastik_dir = os.path.join(base_dir, 'botol_plastik')\n",
        "\n",
        "print('total training cans images:', len(os.listdir(kaleng_dir)))\n",
        "print('total training cardboard images:', len(os.listdir(kardus_dir)))\n",
        "print('total training paper images:', len(os.listdir(kertas_dir)))\n",
        "print('total training plastic_bottles images:', len(os.listdir(botol_plastik_dir)))\n",
        "\n",
        "cans_files = os.listdir(kaleng_dir)\n",
        "print(cans_files[:10])\n",
        "\n",
        "paper_files = os.listdir(kertas_dir)\n",
        "print(paper_files[:10])\n",
        "\n",
        "cardboard_files = os.listdir(kardus_dir)\n",
        "print(cardboard_files[:10])\n",
        "\n",
        "plastic_bottles_files = os.listdir(botol_plastik_dir)\n",
        "print(plastic_bottles_files[:10])"
      ],
      "metadata": {
        "colab": {
          "base_uri": "https://localhost:8080/"
        },
        "id": "Z_hsrC_zesMH",
        "outputId": "afc16821-7187-4b82-ada8-4a43aa1e4d90"
      },
      "execution_count": 3,
      "outputs": [
        {
          "output_type": "stream",
          "name": "stdout",
          "text": [
            "total training cans images: 1000\n",
            "total training cardboard images: 1000\n",
            "total training paper images: 1000\n",
            "total training plastic_bottles images: 1000\n",
            "['AluCan688.jpg', 'AluCan874.jpg', 'AluCan716.jpg', 'AluCan613.jpg', 'AluCan336.jpg', 'AluCan75.jpg', 'AluCan799.jpg', 'AluCan605.jpg', 'AluCan127.jpg', 'AluCan487.jpg']\n",
            "['paper960.jpg', 'paper751.jpg', 'paper970.jpg', 'paper787.jpg', 'paper603.jpg', 'paper15.jpg', 'paper730.jpg', 'paper150.jpg', 'paper643.jpg', 'paper217.jpg']\n",
            "['cardboard748.jpg', 'cardboard882.jpg', 'cardboard703.jpg', 'cardboard378.jpg', 'NBSJHODHTY2C.jpg', 'cardboard225.jpg', 'cardboard858.jpg', 'cardboard588.jpg', 'ZA88T69MF2SB.jpg', 'cardboard267.jpg']\n",
            "['PET1,309.jpg', 'PET861.jpg', 'PET1,304.jpg', 'PET990.jpg', 'PET1,549.jpg', 'PET1,095.jpg', 'PET1,046.jpg', 'PET757.jpg', 'PET1,572.jpg', 'PET1,305.jpg']\n"
          ]
        }
      ]
    },
    {
      "cell_type": "markdown",
      "source": [
        "## Split the Dataset"
      ],
      "metadata": {
        "id": "1NFWwHvTeAtO"
      }
    },
    {
      "cell_type": "code",
      "source": [
        "import shutil\n",
        "\n",
        "# Define root directory\n",
        "root_dir = 'data/'\n",
        "\n",
        "# Empty directory to prevent FileExistsError is the function is run several times\n",
        "if os.path.exists(root_dir):\n",
        "  shutil.rmtree(root_dir)\n",
        "\n",
        "# create_train_val_dirs\n",
        "def create_train_val_dirs(root_path):\n",
        "\n",
        "  os.makedirs(os.path.join(root_path, 'training'))\n",
        "  os.makedirs(os.path.join(f'{root_path}/training', 'kaleng'))\n",
        "  os.makedirs(os.path.join(f'{root_path}/training', 'kertas'))\n",
        "  os.makedirs(os.path.join(f'{root_path}/training', 'kardus'))\n",
        "  os.makedirs(os.path.join(f'{root_path}/training', 'botol_plastik'))\n",
        "  os.makedirs(os.path.join(root_path, 'validation'))\n",
        "  os.makedirs(os.path.join(f'{root_path}/validation', 'kaleng'))\n",
        "  os.makedirs(os.path.join(f'{root_path}/validation', 'kertas'))\n",
        "  os.makedirs(os.path.join(f'{root_path}/validation', 'kardus'))\n",
        "  os.makedirs(os.path.join(f'{root_path}/validation', 'botol_plastik'))\n",
        "\n",
        "try:\n",
        "  create_train_val_dirs(root_path=root_dir)\n",
        "except FileExistsError:\n",
        "  print(\"You should not be seeing this since the upper directory is removed beforehand\")"
      ],
      "metadata": {
        "id": "J5Jj6v7Seryg"
      },
      "execution_count": null,
      "outputs": []
    },
    {
      "cell_type": "code",
      "source": [
        "# Test create_train_val_dirs function\n",
        "for rootdir, dirs, files in os.walk(root_dir):\n",
        "    for subdir in dirs:\n",
        "        print(os.path.join(rootdir, subdir))"
      ],
      "metadata": {
        "colab": {
          "base_uri": "https://localhost:8080/"
        },
        "id": "NOo46pdHiZ-H",
        "outputId": "f88ff092-51da-45d2-d364-7f86731833aa"
      },
      "execution_count": null,
      "outputs": [
        {
          "output_type": "stream",
          "name": "stdout",
          "text": [
            "data/validation\n",
            "data/training\n",
            "data/validation/botol_plastik\n",
            "data/validation/kaleng\n",
            "data/validation/kardus\n",
            "data/validation/kertas\n",
            "data/training/botol_plastik\n",
            "data/training/kaleng\n",
            "data/training/kardus\n",
            "data/training/kertas\n"
          ]
        }
      ]
    },
    {
      "cell_type": "code",
      "source": [
        "from shutil import copyfile\n",
        "\n",
        "# split_data\n",
        "def split_data(source_dir, training_dir, validation_dir, split_size):\n",
        "\n",
        "    # Shuffle list\n",
        "  shuffled_source = random.sample(os.listdir(source_dir), len(os.listdir(source_dir)))\n",
        "\n",
        "  # Find total number of files in training dir\n",
        "  training_number = int(len(shuffled_source) * split_size)\n",
        "\n",
        "  i = 0\n",
        "  target = training_dir\n",
        "\n",
        "  for item in shuffled_source:\n",
        "    item_source = os.path.join(source_dir, item)\n",
        "    if os.path.getsize(item_source) == 0:\n",
        "      print(f'{item} is zero length, so ignoring.')\n",
        "    else:\n",
        "      copyfile(item_source, os.path.join(target, item))\n",
        "    i += 1\n",
        "\n",
        "    # Switch copy target to VALIDATION_DIR\n",
        "    if i == training_number:\n",
        "      target = validation_dir"
      ],
      "metadata": {
        "id": "KiAAYBMUib46"
      },
      "execution_count": null,
      "outputs": []
    },
    {
      "cell_type": "code",
      "source": [
        "# Test your split_data function\n",
        "\n",
        "# Define paths\n",
        "kardus_source_dir = \"tmp/garbageClassification/kardus\"\n",
        "botol_plastik_source_dir = \"tmp/garbageClassification/botol_plastik\"\n",
        "kaleng_source_dir = \"tmp/garbageClassification/kaleng\"\n",
        "kertas_source_dir = \"tmp/garbageClassification/kertas\"\n",
        "\n",
        "training_dir = \"data/training\"\n",
        "validation_dir = \"data/validation\"\n",
        "\n",
        "training_kardus_dir = os.path.join(training_dir, \"kardus/\")\n",
        "validation_kardus_dir = os.path.join(validation_dir, \"kardus/\")\n",
        "\n",
        "training_botol_plastik_dir = os.path.join(training_dir, \"botol_plastik/\")\n",
        "validation_botol_plastik_dir = os.path.join(validation_dir, \"botol_plastik/\")\n",
        "\n",
        "training_kaleng_dir = os.path.join(training_dir, \"kaleng/\")\n",
        "validation_kaleng_dir = os.path.join(validation_dir, \"kaleng/\")\n",
        "\n",
        "training_kertas_dir = os.path.join(training_dir, \"kertas/\")\n",
        "validation_kertas_dir = os.path.join(validation_dir, \"kertas/\")"
      ],
      "metadata": {
        "id": "UaPXQV_WieC0"
      },
      "execution_count": null,
      "outputs": []
    },
    {
      "cell_type": "code",
      "source": [
        "# Empty directories in case you run this cell multiple times\n",
        "if len(os.listdir(training_kardus_dir)) > 0:\n",
        "  for file in os.scandir(training_kardus_dir):\n",
        "    os.remove(file.path)\n",
        "if len(os.listdir(training_botol_plastik_dir)) > 0:\n",
        "  for file in os.scandir(training_botol_plastik_dir):\n",
        "    os.remove(file.path)\n",
        "if len(os.listdir(training_kaleng_dir)) > 0:\n",
        "  for file in os.scandir(training_kaleng_dir):\n",
        "    os.remove(file.path)\n",
        "if len(os.listdir(training_kertas_dir)) > 0:\n",
        "  for file in os.scandir(training_kertas_dir):\n",
        "    os.remove(file.path)\n",
        "\n",
        "\n",
        "if len(os.listdir(validation_kardus_dir)) > 0:\n",
        "  for file in os.scandir(validation_kardus_dir):\n",
        "    os.remove(file.path)\n",
        "if len(os.listdir(validation_botol_plastik_dir)) > 0:\n",
        "  for file in os.scandir(validation_botol_plastik_dir):\n",
        "    os.remove(file.path)\n",
        "if len(os.listdir(validation_kaleng_dir)) > 0:\n",
        "  for file in os.scandir(validation_kaleng_dir):\n",
        "    os.remove(file.path)\n",
        "if len(os.listdir(validation_kertas_dir)) > 0:\n",
        "  for file in os.scandir(validation_kertas_dir):\n",
        "    os.remove(file.path)"
      ],
      "metadata": {
        "id": "N_uKdgnSif5D"
      },
      "execution_count": null,
      "outputs": []
    },
    {
      "cell_type": "code",
      "source": [
        "split_size = .8"
      ],
      "metadata": {
        "id": "kO3FfsImiiAU"
      },
      "execution_count": null,
      "outputs": []
    },
    {
      "cell_type": "code",
      "source": [
        "# Run the function\n",
        "# NOTE: Messages about zero length images should be printed out\n",
        "split_data(kardus_source_dir, training_kardus_dir, validation_kardus_dir, split_size)\n",
        "split_data(botol_plastik_source_dir, training_botol_plastik_dir, validation_botol_plastik_dir, split_size)\n",
        "split_data(kaleng_source_dir, training_kaleng_dir, validation_kaleng_dir, split_size)\n",
        "split_data(kertas_source_dir, training_kertas_dir, validation_kertas_dir, split_size)\n",
        "\n",
        "# Your function should perform copies rather than moving images so original directories should contain unchanged images\n",
        "print(f\"Original kardus directory has {len(os.listdir(kardus_source_dir))} images\")\n",
        "print(f\"Original botol plastik directory has {len(os.listdir(botol_plastik_source_dir))} images\")\n",
        "print(f\"Original kaleng directory has {len(os.listdir(kaleng_source_dir))} images\")\n",
        "print(f\"Original kertas directory has {len(os.listdir(kertas_source_dir))} images\")\n",
        "\n",
        "# Training and validation splits. Check that the number of images matches the expected output.\n",
        "print(f\"There are {len(os.listdir(training_kardus_dir))} images of kardus for training\")\n",
        "print(f\"There are {len(os.listdir(training_botol_plastik_dir))} images of botol plastik for training\")\n",
        "print(f\"There are {len(os.listdir(training_kaleng_dir))} images of kaleng for training\")\n",
        "print(f\"There are {len(os.listdir(training_kertas_dir))} images of kertas for training\")\n",
        "\n",
        "print(f\"There are {len(os.listdir(validation_kardus_dir))} images of kardus for validation\")\n",
        "print(f\"There are {len(os.listdir(validation_botol_plastik_dir))} images of botol plastik for validation\")\n",
        "print(f\"There are {len(os.listdir(validation_kaleng_dir))} images of kaleng for validation\")\n",
        "print(f\"There are {len(os.listdir(validation_kertas_dir))} images of kertas for validation\")"
      ],
      "metadata": {
        "colab": {
          "base_uri": "https://localhost:8080/"
        },
        "id": "bQNbUzgxijmn",
        "outputId": "3d1fd7aa-e51d-4f0b-bbbf-9aedd8ad67e8"
      },
      "execution_count": null,
      "outputs": [
        {
          "output_type": "stream",
          "name": "stdout",
          "text": [
            "Original kardus directory has 1000 images\n",
            "Original botol plastik directory has 1000 images\n",
            "Original kaleng directory has 1000 images\n",
            "Original kertas directory has 1000 images\n",
            "There are 800 images of kardus for training\n",
            "There are 800 images of botol plastik for training\n",
            "There are 800 images of kaleng for training\n",
            "There are 800 images of kertas for training\n",
            "There are 200 images of kardus for validation\n",
            "There are 200 images of botol plastik for validation\n",
            "There are 200 images of kaleng for validation\n",
            "There are 200 images of kertas for validation\n"
          ]
        }
      ]
    },
    {
      "cell_type": "markdown",
      "source": [
        "## Data Preprocessing"
      ],
      "metadata": {
        "id": "hLK7OL0geGKs"
      }
    },
    {
      "cell_type": "code",
      "source": [
        "training_dir = \"data/training\"\n",
        "training_datagen = ImageDataGenerator(\n",
        "      rescale = 1./255.,\n",
        "\t    rotation_range=40,\n",
        "      width_shift_range=0.2,\n",
        "      height_shift_range=0.2,\n",
        "      shear_range=0.2,\n",
        "      zoom_range=0.2,\n",
        "      horizontal_flip=True,\n",
        "      fill_mode='nearest')\n",
        "\n",
        "validation_dir = \"data/validation\"\n",
        "validation_datagen = ImageDataGenerator(rescale = 1./255.)\n",
        "\n",
        "train_generator = training_datagen.flow_from_directory(\n",
        "\ttraining_dir,\n",
        "\ttarget_size=(280,280),\n",
        "\tclass_mode='categorical',\n",
        "  batch_size=128\n",
        ")\n",
        "\n",
        "validation_generator = validation_datagen.flow_from_directory(\n",
        "\tvalidation_dir,\n",
        "\ttarget_size=(280,280),\n",
        "\tclass_mode='categorical',\n",
        "  batch_size=128\n",
        ")"
      ],
      "metadata": {
        "colab": {
          "base_uri": "https://localhost:8080/"
        },
        "id": "Es6nXNIQilid",
        "outputId": "caddcb87-009e-44ba-8901-98bec66af307"
      },
      "execution_count": null,
      "outputs": [
        {
          "output_type": "stream",
          "name": "stdout",
          "text": [
            "Found 3200 images belonging to 4 classes.\n",
            "Found 800 images belonging to 4 classes.\n"
          ]
        }
      ]
    },
    {
      "cell_type": "markdown",
      "source": [
        "## Build CNN Model"
      ],
      "metadata": {
        "id": "u1rVaM1geKAa"
      }
    },
    {
      "cell_type": "code",
      "source": [
        "model = tf.keras.models.Sequential([\n",
        "    tf.keras.layers.Conv2D(16, (3, 3), activation='relu', input_shape=(280, 280, 3)),\n",
        "    tf.keras.layers.MaxPooling2D(2, 2),\n",
        "    tf.keras.layers.Conv2D(32, (3, 3), activation='relu'),\n",
        "    tf.keras.layers.MaxPooling2D(2, 2),\n",
        "    tf.keras.layers.Conv2D(64, (3, 3), activation='relu'),\n",
        "    tf.keras.layers.MaxPooling2D(2, 2),\n",
        "    tf.keras.layers.Flatten(),\n",
        "    tf.keras.layers.Dense(128, activation='relu'),\n",
        "    tf.keras.layers.Dense(4, activation='softmax')\n",
        "])"
      ],
      "metadata": {
        "id": "Oitp7J7ninn0"
      },
      "execution_count": null,
      "outputs": []
    },
    {
      "cell_type": "code",
      "source": [
        "model.compile(optimizer='adam',\n",
        "              loss='categorical_crossentropy',\n",
        "              metrics=['accuracy'])"
      ],
      "metadata": {
        "id": "tPABh6wCiqFB"
      },
      "execution_count": null,
      "outputs": []
    },
    {
      "cell_type": "code",
      "source": [
        "checkpoint_filepath = '/tmp/checkpoint'\n",
        "model_checkpoint_callback = tf.keras.callbacks.ModelCheckpoint(\n",
        "    filepath=checkpoint_filepath,\n",
        "    save_weights_only=True,\n",
        "    monitor='val_accuracy',\n",
        "    mode='max',\n",
        "    save_best_only=True)"
      ],
      "metadata": {
        "id": "VgNyQ_DOi9dV"
      },
      "execution_count": null,
      "outputs": []
    },
    {
      "cell_type": "code",
      "source": [
        "model.summary()"
      ],
      "metadata": {
        "colab": {
          "base_uri": "https://localhost:8080/"
        },
        "id": "PEGq6W8sfZLd",
        "outputId": "70d12d88-fe5d-4800-a8d1-2e831b6f653c"
      },
      "execution_count": null,
      "outputs": [
        {
          "output_type": "stream",
          "name": "stdout",
          "text": [
            "Model: \"sequential\"\n",
            "_________________________________________________________________\n",
            " Layer (type)                Output Shape              Param #   \n",
            "=================================================================\n",
            " conv2d (Conv2D)             (None, 278, 278, 16)      448       \n",
            "                                                                 \n",
            " max_pooling2d (MaxPooling2  (None, 139, 139, 16)      0         \n",
            " D)                                                              \n",
            "                                                                 \n",
            " conv2d_1 (Conv2D)           (None, 137, 137, 32)      4640      \n",
            "                                                                 \n",
            " max_pooling2d_1 (MaxPoolin  (None, 68, 68, 32)        0         \n",
            " g2D)                                                            \n",
            "                                                                 \n",
            " conv2d_2 (Conv2D)           (None, 66, 66, 64)        18496     \n",
            "                                                                 \n",
            " max_pooling2d_2 (MaxPoolin  (None, 33, 33, 64)        0         \n",
            " g2D)                                                            \n",
            "                                                                 \n",
            " flatten (Flatten)           (None, 69696)             0         \n",
            "                                                                 \n",
            " dense (Dense)               (None, 128)               8921216   \n",
            "                                                                 \n",
            " dense_1 (Dense)             (None, 4)                 516       \n",
            "                                                                 \n",
            "=================================================================\n",
            "Total params: 8945316 (34.12 MB)\n",
            "Trainable params: 8945316 (34.12 MB)\n",
            "Non-trainable params: 0 (0.00 Byte)\n",
            "_________________________________________________________________\n"
          ]
        }
      ]
    },
    {
      "cell_type": "code",
      "source": [
        "history = model.fit(\n",
        "    train_generator,\n",
        "    steps_per_epoch=train_generator.samples // train_generator.batch_size,\n",
        "    epochs=20,\n",
        "    validation_data=validation_generator,\n",
        "    validation_steps=validation_generator.samples // validation_generator.batch_size,\n",
        "    callbacks=[model_checkpoint_callback]\n",
        ")"
      ],
      "metadata": {
        "colab": {
          "base_uri": "https://localhost:8080/"
        },
        "id": "3db5hOZPi-6o",
        "outputId": "2010d9b0-ceb2-4972-d0c6-10559d235dc0"
      },
      "execution_count": null,
      "outputs": [
        {
          "output_type": "stream",
          "name": "stdout",
          "text": [
            "Epoch 1/20\n",
            "25/25 [==============================] - 83s 3s/step - loss: 1.6428 - accuracy: 0.3575 - val_loss: 1.0914 - val_accuracy: 0.5378\n",
            "Epoch 2/20\n",
            "25/25 [==============================] - 73s 3s/step - loss: 0.9107 - accuracy: 0.6331 - val_loss: 0.8122 - val_accuracy: 0.6549\n",
            "Epoch 3/20\n",
            "25/25 [==============================] - 74s 3s/step - loss: 0.7178 - accuracy: 0.7119 - val_loss: 0.5704 - val_accuracy: 0.7695\n",
            "Epoch 4/20\n",
            "25/25 [==============================] - 74s 3s/step - loss: 0.6064 - accuracy: 0.7559 - val_loss: 0.5476 - val_accuracy: 0.7930\n",
            "Epoch 5/20\n",
            "25/25 [==============================] - 71s 3s/step - loss: 0.5461 - accuracy: 0.7969 - val_loss: 0.6722 - val_accuracy: 0.7734\n",
            "Epoch 6/20\n",
            "25/25 [==============================] - 72s 3s/step - loss: 0.5185 - accuracy: 0.8006 - val_loss: 0.7118 - val_accuracy: 0.7096\n",
            "Epoch 7/20\n",
            "25/25 [==============================] - 74s 3s/step - loss: 0.5287 - accuracy: 0.7950 - val_loss: 0.4959 - val_accuracy: 0.7995\n",
            "Epoch 8/20\n",
            "25/25 [==============================] - 69s 3s/step - loss: 0.4511 - accuracy: 0.8275 - val_loss: 0.4316 - val_accuracy: 0.8242\n",
            "Epoch 9/20\n",
            "25/25 [==============================] - 69s 3s/step - loss: 0.4360 - accuracy: 0.8397 - val_loss: 0.3687 - val_accuracy: 0.8477\n",
            "Epoch 10/20\n",
            "25/25 [==============================] - 68s 3s/step - loss: 0.4032 - accuracy: 0.8525 - val_loss: 0.3885 - val_accuracy: 0.8477\n",
            "Epoch 11/20\n",
            "25/25 [==============================] - 71s 3s/step - loss: 0.3870 - accuracy: 0.8603 - val_loss: 0.4078 - val_accuracy: 0.8190\n",
            "Epoch 12/20\n",
            "25/25 [==============================] - 70s 3s/step - loss: 0.3634 - accuracy: 0.8647 - val_loss: 0.3287 - val_accuracy: 0.8802\n",
            "Epoch 13/20\n",
            "25/25 [==============================] - 69s 3s/step - loss: 0.3417 - accuracy: 0.8741 - val_loss: 0.3596 - val_accuracy: 0.8516\n",
            "Epoch 14/20\n",
            "25/25 [==============================] - 69s 3s/step - loss: 0.3336 - accuracy: 0.8734 - val_loss: 0.3636 - val_accuracy: 0.8646\n",
            "Epoch 15/20\n",
            "25/25 [==============================] - 71s 3s/step - loss: 0.3525 - accuracy: 0.8725 - val_loss: 0.3899 - val_accuracy: 0.8555\n",
            "Epoch 16/20\n",
            "25/25 [==============================] - 69s 3s/step - loss: 0.3298 - accuracy: 0.8772 - val_loss: 0.3056 - val_accuracy: 0.8698\n",
            "Epoch 17/20\n",
            "25/25 [==============================] - 68s 3s/step - loss: 0.3169 - accuracy: 0.8869 - val_loss: 0.3482 - val_accuracy: 0.8620\n",
            "Epoch 18/20\n",
            "25/25 [==============================] - 69s 3s/step - loss: 0.3195 - accuracy: 0.8781 - val_loss: 0.3904 - val_accuracy: 0.8607\n",
            "Epoch 19/20\n",
            "25/25 [==============================] - 68s 3s/step - loss: 0.3014 - accuracy: 0.8847 - val_loss: 0.3295 - val_accuracy: 0.8698\n",
            "Epoch 20/20\n",
            "25/25 [==============================] - 70s 3s/step - loss: 0.2555 - accuracy: 0.9059 - val_loss: 0.2378 - val_accuracy: 0.8945\n"
          ]
        }
      ]
    },
    {
      "cell_type": "code",
      "source": [
        "import matplotlib.pyplot as plt\n",
        "\n",
        "plt.plot(history.history['accuracy'], label='Training Accuracy')\n",
        "plt.plot(history.history['val_accuracy'], label='Validation Accuracy')\n",
        "plt.xlabel('Epoch')\n",
        "plt.ylabel('Accuracy')\n",
        "plt.legend()\n",
        "plt.title('Training and Validation Accuracy')\n",
        "plt.show()\n",
        "\n",
        "plt.plot(history.history['loss'], label='Training Loss')\n",
        "plt.plot(history.history['val_loss'], label='Validation Loss')\n",
        "plt.xlabel('Epoch')\n",
        "plt.ylabel('Loss')\n",
        "plt.legend()\n",
        "plt.title('Training and Validation Loss')\n",
        "plt.show()"
      ],
      "metadata": {
        "colab": {
          "base_uri": "https://localhost:8080/",
          "height": 927
        },
        "id": "TaPHbfold_EA",
        "outputId": "c41c05cf-2056-4942-ff4a-84230d659959"
      },
      "execution_count": null,
      "outputs": [
        {
          "output_type": "display_data",
          "data": {
            "text/plain": [
              "<Figure size 640x480 with 1 Axes>"
            ],
            "image/png": "[encoded data removed]"
          },
          "metadata": {}
        },
        {
          "output_type": "display_data",
          "data": {
            "text/plain": [
              "<Figure size 640x480 with 1 Axes>"
            ],
            "image/png": "[encoded data removed]"
          },
          "metadata": {}
        }
      ]
    },
    {
      "cell_type": "code",
      "source": [
        "model.load_weights(checkpoint_filepath)"
      ],
      "metadata": {
        "colab": {
          "base_uri": "https://localhost:8080/"
        },
        "id": "Ns06UNv1npKv",
        "outputId": "26d552c6-7df7-43a5-ea6f-6aa7442832c3"
      },
      "execution_count": null,
      "outputs": [
        {
          "output_type": "execute_result",
          "data": {
            "text/plain": [
              "<tensorflow.python.checkpoint.checkpoint.CheckpointLoadStatus at 0x7cc7ced55600>"
            ]
          },
          "metadata": {},
          "execution_count": 19
        }
      ]
    },
    {
      "cell_type": "code",
      "source": [
        "test_loss, test_acc = model.evaluate(validation_generator)\n",
        "print(f'\\nTest accuracy: {test_acc}')\n",
        "print(f'\\nTest loss: {test_loss}')"
      ],
      "metadata": {
        "colab": {
          "base_uri": "https://localhost:8080/"
        },
        "id": "v5wk-ArBjDEQ",
        "outputId": "27fd9b7b-9d71-4cd1-e910-18eac358d446"
      },
      "execution_count": null,
      "outputs": [
        {
          "output_type": "stream",
          "name": "stdout",
          "text": [
            "7/7 [==============================] - 4s 513ms/step - loss: 0.2405 - accuracy: 0.8950\n",
            "\n",
            "Test accuracy: 0.8949999809265137\n",
            "\n",
            "Test loss: 0.2405407726764679\n"
          ]
        }
      ]
    },
    {
      "cell_type": "markdown",
      "source": [
        "## Save Trained Model"
      ],
      "metadata": {
        "id": "HYxhbOtleP7O"
      }
    },
    {
      "cell_type": "code",
      "source": [
        "export_dir = 'saved_model/1'\n",
        "tf.saved_model.save(model, export_dir)"
      ],
      "metadata": {
        "id": "pDEzIQBUjG0K"
      },
      "execution_count": null,
      "outputs": []
    },
    {
      "cell_type": "code",
      "source": [
        "# Convert the model.\n",
        "converter = tf.lite.TFLiteConverter.from_saved_model(export_dir)\n",
        "converter.optimizations = [tf.lite.Optimize.DEFAULT]\n",
        "tflite_model = converter.convert()"
      ],
      "metadata": {
        "id": "mHiohNkcjIzG"
      },
      "execution_count": null,
      "outputs": []
    },
    {
      "cell_type": "code",
      "source": [
        "converter = tf.lite.TFLiteConverter.from_saved_model(export_dir)\n",
        "tflite_model = converter.convert()"
      ],
      "metadata": {
        "id": "Zo8-HNreNav5"
      },
      "execution_count": null,
      "outputs": []
    },
    {
      "cell_type": "code",
      "source": [
        "tflite_model_file = pathlib.Path('model-4.tflite')\n",
        "tflite_model_file.write_bytes(tflite_model)"
      ],
      "metadata": {
        "colab": {
          "base_uri": "https://localhost:8080/"
        },
        "id": "VFFNkNDqjLEl",
        "outputId": "8524b8d9-a9e4-49b7-962e-451da86a49ee"
      },
      "execution_count": null,
      "outputs": [
        {
          "output_type": "execute_result",
          "data": {
            "text/plain": [
              "35785340"
            ]
          },
          "metadata": {},
          "execution_count": 38
        }
      ]
    },
    {
      "cell_type": "markdown",
      "source": [
        "## Write metadata to the model"
      ],
      "metadata": {
        "id": "ji6E0lhQeT1Y"
      }
    },
    {
      "cell_type": "code",
      "source": [
        "!pip install tflite-support"
      ],
      "metadata": {
        "colab": {
          "base_uri": "https://localhost:8080/"
        },
        "id": "o-434qWu-BpW",
        "outputId": "3f9fcf69-ec4a-4094-88d1-3167e67cf419"
      },
      "execution_count": null,
      "outputs": [
        {
          "output_type": "stream",
          "name": "stdout",
          "text": [
            "Collecting tflite-support\n",
            "  Downloading tflite_support-0.4.4-cp310-cp310-manylinux2014_x86_64.whl (60.8 MB)\n",
            "\u001b[2K     \u001b[90m━━━━━━━━━━━━━━━━━━━━━━━━━━━━━━━━━━━━━━━━\u001b[0m \u001b[32m60.8/60.8 MB\u001b[0m \u001b[31m12.1 MB/s\u001b[0m eta \u001b[36m0:00:00\u001b[0m\n",
            "\u001b[?25hRequirement already satisfied: absl-py>=0.7.0 in /usr/local/lib/python3.10/dist-packages (from tflite-support) (1.4.0)\n",
            "Requirement already satisfied: numpy>=1.20.0 in /usr/local/lib/python3.10/dist-packages (from tflite-support) (1.23.5)\n",
            "Requirement already satisfied: flatbuffers>=2.0 in /usr/local/lib/python3.10/dist-packages (from tflite-support) (23.5.26)\n",
            "Requirement already satisfied: protobuf<4,>=3.18.0 in /usr/local/lib/python3.10/dist-packages (from tflite-support) (3.20.3)\n",
            "Collecting sounddevice>=0.4.4 (from tflite-support)\n",
            "  Downloading sounddevice-0.4.6-py3-none-any.whl (31 kB)\n",
            "Collecting pybind11>=2.6.0 (from tflite-support)\n",
            "  Downloading pybind11-2.11.1-py3-none-any.whl (227 kB)\n",
            "\u001b[2K     \u001b[90m━━━━━━━━━━━━━━━━━━━━━━━━━━━━━━━━━━━━━━━━\u001b[0m \u001b[32m227.7/227.7 kB\u001b[0m \u001b[31m26.4 MB/s\u001b[0m eta \u001b[36m0:00:00\u001b[0m\n",
            "\u001b[?25hRequirement already satisfied: CFFI>=1.0 in /usr/local/lib/python3.10/dist-packages (from sounddevice>=0.4.4->tflite-support) (1.16.0)\n",
            "Requirement already satisfied: pycparser in /usr/local/lib/python3.10/dist-packages (from CFFI>=1.0->sounddevice>=0.4.4->tflite-support) (2.21)\n",
            "Installing collected packages: pybind11, sounddevice, tflite-support\n",
            "Successfully installed pybind11-2.11.1 sounddevice-0.4.6 tflite-support-0.4.4\n"
          ]
        }
      ]
    },
    {
      "cell_type": "code",
      "source": [
        "from tflite_support.metadata_writers import image_classifier\n",
        "from tflite_support.metadata_writers import writer_utils\n",
        "\n",
        "ImageClassifierWriter = image_classifier.MetadataWriter\n",
        "_MODEL_PATH = \"model.tflite\"\n",
        "# Task Library expects label files that are in the same format as the one below.\n",
        "_LABEL_FILE = \"labels.txt\"\n",
        "_SAVE_TO_PATH = \"model_metadata.tflite\"\n",
        "# Normalization parameters is required when reprocessing the image. It is\n",
        "# optional if the image pixel values are in range of [0, 255] and the input\n",
        "# tensor is quantized to uint8. See the introduction for normalization and\n",
        "# quantization parameters below for more details.\n",
        "# https://www.tensorflow.org/lite/models/convert/metadata#normalization_and_quantization_parameters)\n",
        "_INPUT_NORM_MEAN = 127.5\n",
        "_INPUT_NORM_STD = 127.5\n",
        "\n",
        "# Create the metadata writer.\n",
        "writer = ImageClassifierWriter.create_for_inference(\n",
        "    writer_utils.load_file(_MODEL_PATH), [_INPUT_NORM_MEAN], [_INPUT_NORM_STD],\n",
        "    [_LABEL_FILE])\n",
        "\n",
        "# Verify the metadata generated by metadata writer.\n",
        "print(writer.get_metadata_json())\n",
        "\n",
        "# Populate the metadata into the model.\n",
        "writer_utils.save_file(writer.populate(), _SAVE_TO_PATH)"
      ],
      "metadata": {
        "colab": {
          "base_uri": "https://localhost:8080/"
        },
        "id": "yra4_7R89PYZ",
        "outputId": "24709fa4-7bbc-4259-e38c-6adeb81627f5"
      },
      "execution_count": null,
      "outputs": [
        {
          "output_type": "stream",
          "name": "stdout",
          "text": [
            "{\n",
            "  \"name\": \"ImageClassifier\",\n",
            "  \"description\": \"Identify the most prominent object in the image from a known set of categories.\",\n",
            "  \"subgraph_metadata\": [\n",
            "    {\n",
            "      \"input_tensor_metadata\": [\n",
            "        {\n",
            "          \"name\": \"image\",\n",
            "          \"description\": \"Input image to be classified.\",\n",
            "          \"content\": {\n",
            "            \"content_properties_type\": \"ImageProperties\",\n",
            "            \"content_properties\": {\n",
            "              \"color_space\": \"RGB\"\n",
            "            }\n",
            "          },\n",
            "          \"process_units\": [\n",
            "            {\n",
            "              \"options_type\": \"NormalizationOptions\",\n",
            "              \"options\": {\n",
            "                \"mean\": [\n",
            "                  127.5\n",
            "                ],\n",
            "                \"std\": [\n",
            "                  127.5\n",
            "                ]\n",
            "              }\n",
            "            }\n",
            "          ],\n",
            "          \"stats\": {\n",
            "            \"max\": [\n",
            "              1.0\n",
            "            ],\n",
            "            \"min\": [\n",
            "              -1.0\n",
            "            ]\n",
            "          }\n",
            "        }\n",
            "      ],\n",
            "      \"output_tensor_metadata\": [\n",
            "        {\n",
            "          \"name\": \"probability\",\n",
            "          \"description\": \"Probabilities of the labels respectively.\",\n",
            "          \"content\": {\n",
            "            \"content_properties_type\": \"FeatureProperties\",\n",
            "            \"content_properties\": {\n",
            "            }\n",
            "          },\n",
            "          \"stats\": {\n",
            "            \"max\": [\n",
            "              1.0\n",
            "            ],\n",
            "            \"min\": [\n",
            "              0.0\n",
            "            ]\n",
            "          },\n",
            "          \"associated_files\": [\n",
            "            {\n",
            "              \"name\": \"labels.txt\",\n",
            "              \"description\": \"Labels for categories that the model can recognize.\",\n",
            "              \"type\": \"TENSOR_AXIS_LABELS\"\n",
            "            }\n",
            "          ]\n",
            "        }\n",
            "      ]\n",
            "    }\n",
            "  ]\n",
            "}\n",
            "\n"
          ]
        }
      ]
    }
  ]
}